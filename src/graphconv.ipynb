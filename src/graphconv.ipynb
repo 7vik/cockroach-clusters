{
 "cells": [
  {
   "cell_type": "markdown",
   "metadata": {},
   "source": [
    "Now we'll try to use neural networks on graphs using the [DGL](https://docs.dgl.ai/) library. It will follow the implementation of a GCN using PyTorch backend. First I'm trying it out on an inbuilt dataset from the DGL Library , and later will apply it to the `page-page` dataset.\n",
    "\n",
    "Note that this notebook continues from `graphnets.ipynb`"
   ]
  },
  {
   "cell_type": "code",
   "execution_count": 1,
   "metadata": {},
   "outputs": [
    {
     "name": "stderr",
     "output_type": "stream",
     "text": [
      "Using backend: pytorch\n"
     ]
    }
   ],
   "source": [
    "import dgl\n",
    "import dgl.function as fn\n",
    "import torch as th\n",
    "import torch.nn as nn\n",
    "import torch.nn.functional as F\n",
    "from dgl import DGLGraph"
   ]
  },
  {
   "cell_type": "code",
   "execution_count": 2,
   "metadata": {},
   "outputs": [],
   "source": [
    "gcn_msg = fn.copy_src(src='h', out='m')\n",
    "gcn_reduce = fn.sum(msg='m', out='h')"
   ]
  },
  {
   "cell_type": "code",
   "execution_count": 12,
   "metadata": {},
   "outputs": [],
   "source": [
    "class GCNLayer(nn.Module):\n",
    "    def __init__(self, in_feats, out_feats):\n",
    "        super(GCNLayer, self).__init__()\n",
    "        self.linear = nn.Linear(in_feats, out_feats)\n",
    "\n",
    "    def forward(self, g, feature):\n",
    "        with g.local_scope():\n",
    "            g.ndata['h'] = feature\n",
    "            g.update_all(gcn_msg, gcn_reduce)\n",
    "            h = g.ndata['h']\n",
    "            return self.linear(h)"
   ]
  },
  {
   "cell_type": "code",
   "execution_count": 13,
   "metadata": {},
   "outputs": [],
   "source": [
    "class Net(nn.Module):\n",
    "    def __init__(self):\n",
    "        super(Net, self).__init__()\n",
    "        self.layer1 = GCNLayer(1433, 16)\n",
    "        self.layer2 = GCNLayer(16, 7)\n",
    "\n",
    "    def forward(self, g, features):\n",
    "        x = F.relu(self.layer1(g, features))\n",
    "        x = self.layer2(g, x)\n",
    "        return x\n",
    "net = Net()"
   ]
  },
  {
   "cell_type": "code",
   "execution_count": 14,
   "metadata": {},
   "outputs": [
    {
     "name": "stdout",
     "output_type": "stream",
     "text": [
      "Net(\n",
      "  (layer1): GCNLayer(\n",
      "    (linear): Linear(in_features=1433, out_features=16, bias=True)\n",
      "  )\n",
      "  (layer2): GCNLayer(\n",
      "    (linear): Linear(in_features=16, out_features=7, bias=True)\n",
      "  )\n",
      ")\n"
     ]
    }
   ],
   "source": [
    "print(net)"
   ]
  },
  {
   "cell_type": "code",
   "execution_count": 15,
   "metadata": {},
   "outputs": [],
   "source": [
    "from dgl.data import citation_graph as citegrh\n",
    "import networkx as nx\n",
    "def load_cora_data():\n",
    "    data = citegrh.load_cora()\n",
    "    features = th.FloatTensor(data.features)\n",
    "    labels = th.LongTensor(data.labels)\n",
    "    train_mask = th.BoolTensor(data.train_mask)\n",
    "    test_mask = th.BoolTensor(data.test_mask)\n",
    "    g = DGLGraph(data.graph)\n",
    "    return g, features, labels, train_mask, test_mask"
   ]
  },
  {
   "cell_type": "code",
   "execution_count": 16,
   "metadata": {},
   "outputs": [],
   "source": [
    "def evaluate(model, g, features, labels, mask):\n",
    "    model.eval()\n",
    "    with th.no_grad():\n",
    "        logits = model(g, features)\n",
    "        logits = logits[mask]\n",
    "        labels = labels[mask]\n",
    "        _, indices = th.max(logits, dim=1)\n",
    "        correct = th.sum(indices == labels)\n",
    "        return correct.item() * 1.0 / len(labels)"
   ]
  },
  {
   "cell_type": "code",
   "execution_count": 21,
   "metadata": {},
   "outputs": [
    {
     "name": "stdout",
     "output_type": "stream",
     "text": [
      "Epoch 00000 | Loss 0.0148 | Test Acc 0.7300 | Time(s) nan\n",
      "Epoch 00001 | Loss 0.1068 | Test Acc 0.7470 | Time(s) nan\n",
      "Epoch 00002 | Loss 0.0165 | Test Acc 0.7530 | Time(s) nan\n",
      "Epoch 00003 | Loss 0.0319 | Test Acc 0.7430 | Time(s) 0.0145\n",
      "Epoch 00004 | Loss 0.0526 | Test Acc 0.7410 | Time(s) 0.0144\n",
      "Epoch 00005 | Loss 0.0619 | Test Acc 0.7420 | Time(s) 0.0143\n",
      "Epoch 00006 | Loss 0.0616 | Test Acc 0.7410 | Time(s) 0.0142\n",
      "Epoch 00007 | Loss 0.0578 | Test Acc 0.7410 | Time(s) 0.0141\n",
      "Epoch 00008 | Loss 0.0509 | Test Acc 0.7390 | Time(s) 0.0142\n",
      "Epoch 00009 | Loss 0.0414 | Test Acc 0.7350 | Time(s) 0.0145\n",
      "Epoch 00010 | Loss 0.0298 | Test Acc 0.7330 | Time(s) 0.0149\n",
      "Epoch 00011 | Loss 0.0177 | Test Acc 0.7340 | Time(s) 0.0152\n",
      "Epoch 00012 | Loss 0.0128 | Test Acc 0.7270 | Time(s) 0.0152\n",
      "Epoch 00013 | Loss 0.0204 | Test Acc 0.7240 | Time(s) 0.0152\n",
      "Epoch 00014 | Loss 0.0301 | Test Acc 0.7270 | Time(s) 0.0152\n",
      "Epoch 00015 | Loss 0.0323 | Test Acc 0.7310 | Time(s) 0.0169\n",
      "Epoch 00016 | Loss 0.0255 | Test Acc 0.7360 | Time(s) 0.0174\n",
      "Epoch 00017 | Loss 0.0168 | Test Acc 0.7460 | Time(s) 0.0177\n",
      "Epoch 00018 | Loss 0.0121 | Test Acc 0.7520 | Time(s) 0.0181\n",
      "Epoch 00019 | Loss 0.0141 | Test Acc 0.7540 | Time(s) 0.0186\n",
      "Epoch 00020 | Loss 0.0185 | Test Acc 0.7570 | Time(s) 0.0188\n",
      "Epoch 00021 | Loss 0.0213 | Test Acc 0.7590 | Time(s) 0.0190\n",
      "Epoch 00022 | Loss 0.0215 | Test Acc 0.7600 | Time(s) 0.0191\n",
      "Epoch 00023 | Loss 0.0192 | Test Acc 0.7610 | Time(s) 0.0196\n",
      "Epoch 00024 | Loss 0.0155 | Test Acc 0.7610 | Time(s) 0.0198\n",
      "Epoch 00025 | Loss 0.0121 | Test Acc 0.7540 | Time(s) 0.0199\n",
      "Epoch 00026 | Loss 0.0118 | Test Acc 0.7530 | Time(s) 0.0200\n",
      "Epoch 00027 | Loss 0.0142 | Test Acc 0.7530 | Time(s) 0.0205\n",
      "Epoch 00028 | Loss 0.0163 | Test Acc 0.7540 | Time(s) 0.0207\n",
      "Epoch 00029 | Loss 0.0163 | Test Acc 0.7540 | Time(s) 0.0205\n",
      "Epoch 00030 | Loss 0.0144 | Test Acc 0.7570 | Time(s) 0.0202\n",
      "Epoch 00031 | Loss 0.0120 | Test Acc 0.7590 | Time(s) 0.0200\n",
      "Epoch 00032 | Loss 0.0112 | Test Acc 0.7570 | Time(s) 0.0198\n",
      "Epoch 00033 | Loss 0.0122 | Test Acc 0.7560 | Time(s) 0.0198\n",
      "Epoch 00034 | Loss 0.0135 | Test Acc 0.7550 | Time(s) 0.0197\n",
      "Epoch 00035 | Loss 0.0139 | Test Acc 0.7540 | Time(s) 0.0196\n",
      "Epoch 00036 | Loss 0.0131 | Test Acc 0.7540 | Time(s) 0.0195\n",
      "Epoch 00037 | Loss 0.0117 | Test Acc 0.7520 | Time(s) 0.0194\n",
      "Epoch 00038 | Loss 0.0110 | Test Acc 0.7490 | Time(s) 0.0193\n",
      "Epoch 00039 | Loss 0.0114 | Test Acc 0.7500 | Time(s) 0.0192\n",
      "Epoch 00040 | Loss 0.0122 | Test Acc 0.7500 | Time(s) 0.0190\n",
      "Epoch 00041 | Loss 0.0125 | Test Acc 0.7500 | Time(s) 0.0190\n",
      "Epoch 00042 | Loss 0.0119 | Test Acc 0.7480 | Time(s) 0.0190\n",
      "Epoch 00043 | Loss 0.0112 | Test Acc 0.7520 | Time(s) 0.0190\n",
      "Epoch 00044 | Loss 0.0108 | Test Acc 0.7530 | Time(s) 0.0189\n",
      "Epoch 00045 | Loss 0.0111 | Test Acc 0.7520 | Time(s) 0.0188\n",
      "Epoch 00046 | Loss 0.0116 | Test Acc 0.7520 | Time(s) 0.0187\n",
      "Epoch 00047 | Loss 0.0116 | Test Acc 0.7520 | Time(s) 0.0188\n",
      "Epoch 00048 | Loss 0.0112 | Test Acc 0.7510 | Time(s) 0.0187\n",
      "Epoch 00049 | Loss 0.0108 | Test Acc 0.7480 | Time(s) 0.0188\n"
     ]
    }
   ],
   "source": [
    "import time\n",
    "import warnings\n",
    "warnings.filterwarnings(\"ignore\")\n",
    "import numpy as np\n",
    "g, features, labels, train_mask, test_mask = load_cora_data()\n",
    "optimizer = th.optim.Adam(net.parameters(), lr=1e-2)\n",
    "dur = []\n",
    "losses = []\n",
    "accs = []\n",
    "for epoch in range(50):\n",
    "    if epoch >=3:\n",
    "        t0 = time.time()\n",
    "\n",
    "    net.train()\n",
    "    logits = net(g, features)\n",
    "    logp = F.log_softmax(logits, 1)\n",
    "    loss = F.nll_loss(logp[train_mask], labels[train_mask])\n",
    "    losses.append(loss)\n",
    "    \n",
    "    optimizer.zero_grad()\n",
    "    loss.backward()\n",
    "    optimizer.step()\n",
    "\n",
    "    if epoch >=3:\n",
    "        dur.append(time.time() - t0)\n",
    "\n",
    "    acc = evaluate(net, g, features, labels, test_mask)\n",
    "    accs.append(acc)\n",
    "    print(\"Epoch {:05d} | Loss {:.4f} | Test Acc {:.4f} | Time(s) {:.4f}\".format(\n",
    "            epoch, loss.item(), acc, np.mean(dur)))"
   ]
  },
  {
   "cell_type": "code",
   "execution_count": 23,
   "metadata": {},
   "outputs": [
    {
     "data": {
      "image/png": "[encoded data removed]",
      "text/plain": [
       "<Figure size 432x288 with 1 Axes>"
      ]
     },
     "metadata": {
      "needs_background": "light"
     },
     "output_type": "display_data"
    }
   ],
   "source": [
    "import matplotlib.pyplot as plt\n",
    "%matplotlib inline\n",
    "plt.plot(losses)\n",
    "plt.show()"
   ]
  },
  {
   "cell_type": "code",
   "execution_count": 24,
   "metadata": {},
   "outputs": [
    {
     "data": {
      "text/plain": [
       "[<matplotlib.lines.Line2D at 0x12c6f4430>]"
      ]
     },
     "execution_count": 24,
     "metadata": {},
     "output_type": "execute_result"
    },
    {
     "data": {
      "image/png": "[encoded data removed]",
      "text/plain": [
       "<Figure size 432x288 with 1 Axes>"
      ]
     },
     "metadata": {
      "needs_background": "light"
     },
     "output_type": "display_data"
    }
   ],
   "source": [
    "plt.plot(accs)"
   ]
  },
  {
   "cell_type": "markdown",
   "metadata": {},
   "source": [
    "In a vanilla GCN, the losses decrease over epochs and the accuracy increases to around `0.76`. After finetuning the model should perform well. Now we need to look at the graph formatting in DGL and apply this model to the `page-page` network."
   ]
  },
  {
   "cell_type": "code",
   "execution_count": null,
   "metadata": {},
   "outputs": [],
   "source": []
  }
 ],
 "metadata": {
  "kernelspec": {
   "display_name": "Python 3 point eight",
   "language": "python3",
   "name": "python3"
  },
  "language_info": {
   "codemirror_mode": {
    "name": "ipython",
    "version": 3
   },
   "file_extension": ".py",
   "mimetype": "text/x-python",
   "name": "python",
   "nbconvert_exporter": "python",
   "pygments_lexer": "ipython3",
   "version": "3.8.2"
  }
 },
 "nbformat": 4,
 "nbformat_minor": 2
}
