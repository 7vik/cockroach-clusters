{
 "cells": [
  {
   "cell_type": "markdown",
   "metadata": {},
   "source": [
    "After visualizing the graph data and trying two classical approaches to clustering, we'll move on to try some ML based approaches and see how they perform on the same `page-page` dataset. A fundamental paper in this direction is Node2Vec, which using Random Walks transforms the graph to a feature space that can be fed to ML models. We'll try [PyTorch Geometric](https://pytorch-geometric.readthedocs.io/en/latest/notes/introduction.html), a Graph Neural Network Library from PyTorch. This notebook contains the theory and justification for the same, and the next notebook has the implementation.\n",
    "\n",
    "Note that this notebook continues from `kmeans.ipynb`"
   ]
  },
  {
   "cell_type": "markdown",
   "metadata": {},
   "source": [
    "I've never done graph ML before. [This](https://medium.com/octavian-ai/how-to-get-started-with-machine-learning-on-graphs-7f0795c83763) article was a really comfortable starting point into the field.\n",
    "\n",
    "One difference we can see in the `page-page` data vs usual graph NN data is that here, the nodes don't have features. Just a `page_type` from `1-4` that acts as the target in the usual node classification problem."
   ]
  },
  {
   "cell_type": "markdown",
   "metadata": {},
   "source": [
    "To model graphs as neural nets, we need embeddings for each layer of the graph. This image helps understand how weights are used to define these embeddings. More details in [this](https://towardsdatascience.com/program-a-simple-graph-net-in-pytorch-e00b500a642d) blog.\n",
    "\n",
    "![img](https://miro.medium.com/max/1400/1*THVRB8-wHODA3yDUykasIg.png)"
   ]
  },
  {
   "cell_type": "markdown",
   "metadata": {},
   "source": [
    "GCNs (Graph Convolutional Networks) almost always prove to perform better than vanilla Graph Networks. I'm not reading about the theoretical details of how they work (except the main embedding equation) for now, and will be trying out PyTorch Geometric's implementation to see how they perform.\n",
    "\n",
    "Note to self: Read up more about GCNs [here](https://tkipf.github.io/graph-convolutional-networks/), and the papers linked with this."
   ]
  },
  {
   "cell_type": "code",
   "execution_count": null,
   "metadata": {},
   "outputs": [],
   "source": []
  }
 ],
 "metadata": {
  "kernelspec": {
   "display_name": "Python 3",
   "language": "python",
   "name": "python3"
  },
  "language_info": {
   "codemirror_mode": {
    "name": "ipython",
    "version": 3
   },
   "file_extension": ".py",
   "mimetype": "text/x-python",
   "name": "python",
   "nbconvert_exporter": "python",
   "pygments_lexer": "ipython3",
   "version": "3.7.4"
  }
 },
 "nbformat": 4,
 "nbformat_minor": 2
}
